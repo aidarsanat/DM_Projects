{
 "cells": [
  {
   "cell_type": "markdown",
   "id": "65ea0d6b-b0e3-4112-91fe-cdf68af1555b",
   "metadata": {},
   "source": [
    "## Assignment 2, Data Mining\n",
    "\n",
    "Put all deliverables into github repository in your profile. Share link to google form 24 hours before defense. Defend by explaining deliverables and answering questions.\n",
    "Deliverables: .ipynb\n",
    "Google form: https://docs.google.com/forms/d/e/1FAIpQLSe0GyNdOYlvM1tX_I_CtlPod5jBf-ACLGdHYZq1gVZbUeBzIg/viewform?usp=sf_link "
   ]
  },
  {
   "cell_type": "markdown",
   "id": "007a83cb-4866-4932-8aa6-1865eef6f687",
   "metadata": {},
   "source": [
    "### Exercise 1: Feature Selection with SelectKBest\n",
    "\n",
    "Objective: Use SelectKBest from scikit-learn to select the top k features from a dataset.\n",
    "\n",
    "* 1.Load the Iris dataset from scikit-learn.\n",
    "\n",
    "* 2.Split the dataset into features and target variable.\n",
    "\n",
    "* 3.Use SelectKBest with the chi2 score function to select the top 2 features.\n",
    "\n",
    "* 4.Print the selected feature names."
   ]
  },
  {
   "cell_type": "code",
   "execution_count": null,
   "id": "e9e5cc9c-2d8a-4649-b4ae-3bc6741f4678",
   "metadata": {},
   "outputs": [],
   "source": []
  },
  {
   "cell_type": "markdown",
   "id": "9abaa6fe-e44e-4611-aa84-2468257e0ce1",
   "metadata": {},
   "source": [
    "### Exercise 2: Feature Importance with Random Forest\n",
    "\n",
    "Objective: Use a Random Forest classifier to determine feature importance.\n",
    "\n",
    "* 1.Load the Wine dataset from scikit-learn.\n",
    "\n",
    "* 2.Split the dataset into training and testing sets.\n",
    "\n",
    "* 3.Train a Random Forest classifier on the training data.\n",
    "\n",
    "* 4.Extract and visualize feature importances."
   ]
  },
  {
   "cell_type": "code",
   "execution_count": null,
   "id": "88ba802c-38ff-4ac8-804b-c88a784555a5",
   "metadata": {},
   "outputs": [],
   "source": []
  },
  {
   "cell_type": "markdown",
   "id": "b4107cb5-ae6e-4db4-87c8-8b0a736c5373",
   "metadata": {},
   "source": [
    "### Exercise 3: Recursive Feature Elimination (RFE)\n",
    "\n",
    "Objective: Use Recursive Feature Elimination (RFE) to select features and evaluate model performance.\n",
    "\n",
    "* 1.Load the Breast Cancer dataset from scikit-learn.\n",
    "\n",
    "* 2.Split the dataset into training and testing sets.\n",
    "\n",
    "* 3.Use RFE with a Support Vector Machine (SVM) classifier to select features.\n",
    "\n",
    "* 4.Train an SVM model with the selected features and evaluate its performance."
   ]
  },
  {
   "cell_type": "code",
   "execution_count": null,
   "id": "934cbf4d-2c91-40c7-995f-400f9d98c627",
   "metadata": {},
   "outputs": [],
   "source": []
  },
  {
   "cell_type": "markdown",
   "id": "26683b60-443b-496d-a00d-7d3c9cb0263a",
   "metadata": {},
   "source": [
    "### Exercise 4: L1 Regularization for Feature Selection\n",
    "\n",
    "Objective: Use L1 regularization (Lasso) for feature selection.\n",
    "\n",
    "* 1.Load the Diabetes dataset from scikit-learn.\n",
    "\n",
    "* 2.Split the dataset into training and testing sets.\n",
    "\n",
    "* 3.Apply Lasso regression for feature selection.\n",
    "\n",
    "* 4.Train a model using selected features and evaluate its performance."
   ]
  },
  {
   "cell_type": "code",
   "execution_count": null,
   "id": "c3d3f226-2a79-496e-b930-7f01fe98bbe4",
   "metadata": {},
   "outputs": [],
   "source": []
  },
  {
   "cell_type": "markdown",
   "id": "a8c99dda-94de-4d50-b57b-3fd5c87fde1f",
   "metadata": {},
   "source": [
    "## Classification Exercises\n",
    "\n",
    "### Exercise 1: Logistic Regression\n",
    "\n",
    "Objective: Build a logistic regression model to classify data.\n",
    "\n",
    "* 1.Load the Iris dataset from scikit-learn.\n",
    "\n",
    "* 2.Split the dataset into training and testing sets.\n",
    "\n",
    "* 3.Train a logistic regression model on the training set.\n",
    "\n",
    "* 4.Evaluate the model's performance on the test set using accuracy and a confusion matrix."
   ]
  },
  {
   "cell_type": "code",
   "execution_count": null,
   "id": "e265eb97-e1b8-45ac-8b85-b2c5da72b830",
   "metadata": {},
   "outputs": [],
   "source": []
  },
  {
   "cell_type": "markdown",
   "id": "12b8af54-e567-4f2a-bfc6-4e4581cbdb1e",
   "metadata": {},
   "source": [
    "### Exercise 2: Support Vector Machine (SVM)\n",
    "\n",
    "Objective: Use an SVM classifier to classify data.\n",
    "\n",
    "* 1.Load the Breast Cancer dataset from scikit-learn.\n",
    "\n",
    "* 2.Split the dataset into training and testing sets.\n",
    "\n",
    "* 3.Train an SVM model on the training data.\n",
    "\n",
    "* 4.Evaluate the model's performance on the test data using accuracy and a confusion matrix."
   ]
  },
  {
   "cell_type": "code",
   "execution_count": null,
   "id": "64a49193-e3a3-4451-89e2-1e93de1852a8",
   "metadata": {},
   "outputs": [],
   "source": []
  },
  {
   "cell_type": "markdown",
   "id": "df35af69-6c5d-4150-848d-616d5d3d8d96",
   "metadata": {},
   "source": [
    "### Exercise 3: Decision Tree Classifier\n",
    "\n",
    "Objective: Build a decision tree classifier and visualize it.\n",
    "\n",
    "* 1.Load the Wine dataset from scikit-learn.\n",
    "\n",
    "* 2.Split the dataset into training and testing sets.\n",
    "\n",
    "* 3.Train a decision tree classifier on the training set.\n",
    "\n",
    "* 4.Visualize the decision tree."
   ]
  },
  {
   "cell_type": "code",
   "execution_count": null,
   "id": "6c3d6c4c-34e0-4d85-88af-d5a27f48ccea",
   "metadata": {},
   "outputs": [],
   "source": []
  },
  {
   "cell_type": "markdown",
   "id": "12234153-3c06-4be3-b5b6-1e03b26bc530",
   "metadata": {},
   "source": [
    "## Regression Exercises\n",
    "\n",
    "### Exercise 1: Linear Regression\n",
    "\n",
    "Objective: Build a linear regression model to predict a continuous target variable.\n",
    "\n",
    "* 1.Load the Boston Housing dataset from scikit-learn.\n",
    "\n",
    "* 2.Split the dataset into training and testing sets.\n",
    "\n",
    "* 3.Train a linear regression model on the training set.\n",
    "\n",
    "* 4.Evaluate the model's performance using mean squared error (MSE) and R-squared score."
   ]
  },
  {
   "cell_type": "code",
   "execution_count": null,
   "id": "82fb4bbb-558c-41fc-a321-02d9d73b882e",
   "metadata": {},
   "outputs": [],
   "source": []
  },
  {
   "cell_type": "markdown",
   "id": "da990bad-6bee-49da-aa39-b5f349056b2d",
   "metadata": {},
   "source": [
    "### Exercise 2: Ridge Regression\n",
    "\n",
    "Objective: Use Ridge regression to perform regularized linear regression.\n",
    "\n",
    "* 1.Load the Diabetes dataset from scikit-learn.\n",
    "\n",
    "* 2.Split the dataset into training and testing sets.\n",
    "\n",
    "* 3.Train a Ridge regression model on the training set.\n",
    "\n",
    "* 4.Evaluate the model's performance using mean squared error (MSE) and R-squared score."
   ]
  },
  {
   "cell_type": "code",
   "execution_count": null,
   "id": "cc3a6b44-3125-4375-8ee5-1e89bb024169",
   "metadata": {},
   "outputs": [],
   "source": []
  },
  {
   "cell_type": "markdown",
   "id": "7df8d729-091a-424b-8e91-e2a3b37ea6d3",
   "metadata": {},
   "source": [
    "### Exercise 3: Decision Tree Regression\n",
    "\n",
    "Objective: Build a decision tree regression model and visualize it.\n",
    "\n",
    "* 1.Load the Boston Housing dataset from scikit-learn.\n",
    "  \n",
    "* 2.Split the dataset into training and testing sets.\n",
    "  \n",
    "* 3.Train a decision tree regressor on the training set.\n",
    "  \n",
    "* 4.Evaluate the model's performance using mean squared error (MSE).\n",
    "  \n",
    "* 5.Visualize the decision tree."
   ]
  },
  {
   "cell_type": "code",
   "execution_count": null,
   "id": "2045e1b8-f957-44c6-ba58-418531f408d1",
   "metadata": {},
   "outputs": [],
   "source": []
  }
 ],
 "metadata": {
  "kernelspec": {
   "display_name": "Python 3 (ipykernel)",
   "language": "python",
   "name": "python3"
  },
  "language_info": {
   "codemirror_mode": {
    "name": "ipython",
    "version": 3
   },
   "file_extension": ".py",
   "mimetype": "text/x-python",
   "name": "python",
   "nbconvert_exporter": "python",
   "pygments_lexer": "ipython3",
   "version": "3.12.7"
  }
 },
 "nbformat": 4,
 "nbformat_minor": 5
}
