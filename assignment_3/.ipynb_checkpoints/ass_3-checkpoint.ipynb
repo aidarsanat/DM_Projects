{
 "cells": [
  {
   "cell_type": "markdown",
   "id": "707a7ca8-52b8-4074-be45-577d4a9e95e6",
   "metadata": {},
   "source": []
  },
  {
   "cell_type": "markdown",
   "id": "0e4debd3-748c-4e4c-bf51-5d6fc21befc2",
   "metadata": {},
   "source": []
  },
  {
   "cell_type": "code",
   "execution_count": null,
   "id": "a70efce4-efcf-4175-8924-3d8ec2c43ca8",
   "metadata": {},
   "outputs": [],
   "source": [
    "from sklearn.datasets import load_iris\n",
    "from sklearn.model_selection import train_test_split\n",
    "from sklearn.linear_model import LogisticRegression\n",
    "from sklearn.neighbors import KNeighborsClassifier\n",
    "from sklearn.metrics import accuracy_score\n",
    "\n",
    "# Load dataset\n",
    "data = load_iris()\n",
    "X, y = data.data, data.target\n",
    "\n",
    "# Train-test split\n",
    "X_train, X_test, y_train, y_test = train_test_split(X, y, test_size=0.3, random_state=42)\n",
    "\n",
    "# Logistic Regression\n",
    "log_reg = LogisticRegression(max_iter=200, random_state=42)\n",
    "log_reg.fit(X_train, y_train)\n",
    "y_pred_log_reg = log_reg.predict(X_test)\n",
    "log_reg_accuracy = accuracy_score(y_test, y_pred_log_reg)\n",
    "print(f\"Logistic Regression Accuracy: {log_reg_accuracy:.4f}\")\n",
    "\n",
    "# K-Nearest Neighbors\n",
    "knn = KNeighborsClassifier(n_neighbors=3)\n",
    "knn.fit(X_train, y_train)\n",
    "y_pred_knn = knn.predict(X_test)\n",
    "knn_accuracy = accuracy_score(y_test, y_pred_knn)\n",
    "print(f\"K-Nearest Neighbors Accuracy: {knn_accuracy:.4f}\")\n"
   ]
  },
  {
   "cell_type": "markdown",
   "id": "1cde7b7e-72b5-4938-9294-3cebf7c36341",
   "metadata": {},
   "source": []
  },
  {
   "cell_type": "markdown",
   "id": "927f651a-46e8-4679-9514-54bf2d72f911",
   "metadata": {},
   "source": []
  },
  {
   "cell_type": "code",
   "execution_count": null,
   "id": "2114c7ec-54c2-46d5-b133-2da93299db20",
   "metadata": {},
   "outputs": [],
   "source": [
    "from sklearn.metrics import confusion_matrix, classification_report\n",
    "\n",
    "# Confusion Matrix and Classification Report for Logistic Regression\n",
    "print(\"Logistic Regression Confusion Matrix:\")\n",
    "print(confusion_matrix(y_test, y_pred_log_reg))\n",
    "print(\"\\nLogistic Regression Classification Report:\")\n",
    "print(classification_report(y_test, y_pred_log_reg))\n",
    "\n",
    "# Confusion Matrix and Classification Report for K-Nearest Neighbors\n",
    "print(\"K-Nearest Neighbors Confusion Matrix:\")\n",
    "print(confusion_matrix(y_test, y_pred_knn))\n",
    "print(\"\\nK-Nearest Neighbors Classification Report:\")\n",
    "print(classification_report(y_test, y_pred_knn))\n"
   ]
  },
  {
   "cell_type": "markdown",
   "id": "a214bf5b-07a8-4717-865b-cd9a9bd3883b",
   "metadata": {},
   "source": []
  },
  {
   "cell_type": "markdown",
   "id": "77e60551-ebfe-48b1-89c7-ef01b1cd4ecc",
   "metadata": {},
   "source": []
  },
  {
   "cell_type": "code",
   "execution_count": null,
   "id": "4cad707e-5db6-45e9-bd60-78c769dff5a7",
   "metadata": {},
   "outputs": [],
   "source": [
    "inertia = []\n",
    "for k in range(1, 10):\n",
    "    kmeans = KMeans(n_clusters=k, random_state=0)\n",
    "    kmeans.fit(X)\n",
    "    inertia.append(kmeans.inertia_)\n",
    "\n",
    "# Plot the Elbow curve\n",
    "plt.plot(range(1, 10), inertia, marker='o')\n",
    "plt.title(\"Elbow Method for Optimal K\")\n",
    "plt.xlabel(\"Number of Clusters\")\n",
    "plt.ylabel(\"Inertia\")\n",
    "plt.show()\n"
   ]
  },
  {
   "cell_type": "markdown",
   "id": "a1dadbf4-8323-4cc8-a6bb-5cd63883526f",
   "metadata": {},
   "source": []
  },
  {
   "cell_type": "markdown",
   "id": "278c17a1-5839-4a5f-9dff-3c962b39e7ec",
   "metadata": {},
   "source": []
  },
  {
   "cell_type": "code",
   "execution_count": null,
   "id": "7c9ebc33-1fc7-4d59-b239-d0427158c777",
   "metadata": {},
   "outputs": [],
   "source": [
    "from sklearn.cluster import AgglomerativeClustering\n",
    "from scipy.cluster.hierarchy import dendrogram, linkage\n",
    "\n",
    "# Hierarchical Clustering\n",
    "hierarchical = AgglomerativeClustering(n_clusters=4, affinity='euclidean', linkage='ward')\n",
    "y_hierarchical = hierarchical.fit_predict(X)\n",
    "\n",
    "# Dendrogram\n",
    "plt.figure(figsize=(10, 7))\n",
    "linkage_matrix = linkage(X, 'ward')\n",
    "dendrogram(linkage_matrix)\n",
    "plt.title(\"Dendrogram for Hierarchical Clustering\")\n",
    "plt.show()\n"
   ]
  },
  {
   "cell_type": "markdown",
   "id": "311d127d-b14b-4917-b0b0-576b7caa8a5a",
   "metadata": {},
   "source": []
  },
  {
   "cell_type": "markdown",
   "id": "abddb986-b954-42d3-ba94-bf77576c5f68",
   "metadata": {},
   "source": []
  },
  {
   "cell_type": "code",
   "execution_count": null,
   "id": "c0015368-62e0-4bc4-92c4-688a036bc00f",
   "metadata": {},
   "outputs": [],
   "source": [
    "from sklearn.cluster import DBSCAN\n",
    "\n",
    "# Apply DBSCAN\n",
    "dbscan = DBSCAN(eps=0.5, min_samples=5)\n",
    "y_dbscan = dbscan.fit_predict(X)\n",
    "\n",
    "# Plot DBSCAN Clustering results\n",
    "plt.scatter(X[:, 0], X[:, 1], c=y_dbscan, s=50, cmap='viridis')\n",
    "plt.title(\"DBSCAN Clustering\")\n",
    "plt.show()\n"
   ]
  },
  {
   "cell_type": "markdown",
   "id": "e9c0b785-f64d-4079-b864-d3f67671c831",
   "metadata": {},
   "source": []
  },
  {
   "cell_type": "markdown",
   "id": "9cbd1f38-15fb-46ab-9bc8-60ebf74d273a",
   "metadata": {},
   "source": []
  },
  {
   "cell_type": "code",
   "execution_count": null,
   "id": "72c237f0-2078-41d6-a21c-1a9f4efd04e2",
   "metadata": {},
   "outputs": [],
   "source": []
  },
  {
   "cell_type": "code",
   "execution_count": null,
   "id": "3a566a3b-4835-4870-a828-de3006984ed6",
   "metadata": {},
   "outputs": [],
   "source": []
  }
 ],
 "metadata": {
  "kernelspec": {
   "display_name": "Python 3 (ipykernel)",
   "language": "python",
   "name": "python3"
  },
  "language_info": {
   "codemirror_mode": {
    "name": "ipython",
    "version": 3
   },
   "file_extension": ".py",
   "mimetype": "text/x-python",
   "name": "python",
   "nbconvert_exporter": "python",
   "pygments_lexer": "ipython3",
   "version": "3.12.7"
  }
 },
 "nbformat": 4,
 "nbformat_minor": 5
}
