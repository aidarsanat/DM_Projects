{
 "cells": [
  {
   "cell_type": "markdown",
   "id": "204f556b-4d61-4b1b-a23e-4747f3637ebf",
   "metadata": {},
   "source": [
    "ass 4"
   ]
  },
  {
   "cell_type": "code",
   "execution_count": null,
   "id": "94f9abc0-8bd2-4ecf-bd87-84e7d2cbe576",
   "metadata": {},
   "outputs": [],
   "source": [
    "import pandas as pd\n",
    "import numpy as np\n",
    "from sklearn.ensemble import IsolationForest\n",
    "from sklearn.svm import OneClassSVM\n",
    "from sklearn.preprocessing import StandardScaler\n",
    "from sklearn.metrics import classification_report, confusion_matrix, roc_auc_score, roc_curve\n",
    "import matplotlib.pyplot as plt\n",
    "import seaborn as sns\n",
    "\n",
    "# Загрузка данных (например, датасет о мошенничестве с кредитными картами)\n",
    "data = pd.read_csv('creditcard.csv')\n",
    "print(data.head())\n"
   ]
  },
  {
   "cell_type": "code",
   "execution_count": null,
   "id": "f00a7e1c-dea5-48b7-8a44-2b016eb6bcfd",
   "metadata": {},
   "outputs": [],
   "source": [
    "# Проверка пропущенных значений\n",
    "data.isnull().sum()\n",
    "\n",
    "# Нормализация количественных признаков\n",
    "scaler = StandardScaler()\n",
    "data_scaled = scaler.fit_transform(data.drop('Class', axis=1))\n",
    "\n",
    "# Разделение на обучающую и тестовую выборки\n",
    "X_train, X_test = data_scaled[:200000], data_scaled[200000:]\n",
    "y_train, y_test = data['Class'][:200000], data['Class'][200000:]\n"
   ]
  },
  {
   "cell_type": "code",
   "execution_count": null,
   "id": "b1330028-b4f8-4d45-9b6f-6b95fa5cd4bb",
   "metadata": {},
   "outputs": [],
   "source": [
    "# Метод машинного обучения: Isolation Forest\n",
    "iso_forest = IsolationForest(contamination=0.01, random_state=42)\n",
    "iso_forest.fit(X_train)\n",
    "y_pred_iso = iso_forest.predict(X_test)\n",
    "y_pred_iso = [1 if x == -1 else 0 for x in y_pred_iso]\n",
    "\n",
    "# Метод машинного обучения: One-Class SVM\n",
    "svm = OneClassSVM(nu=0.01, kernel=\"rbf\", gamma=0.1)\n",
    "svm.fit(X_train)\n",
    "y_pred_svm = svm.predict(X_test)\n",
    "y_pred_svm = [1 if x == -1 else 0 for x in y_pred_svm]\n",
    "\n",
    "# Отчёты о метриках\n",
    "print(\"Isolation Forest Classification Report:\")\n",
    "print(classification_report(y_test, y_pred_iso))\n",
    "\n",
    "print(\"One-Class SVM Classification Report:\")\n",
    "print(classification_report(y_test, y_pred_svm))\n"
   ]
  },
  {
   "cell_type": "code",
   "execution_count": null,
   "id": "3c42716c-49f3-4fa5-9daf-fc2b72150707",
   "metadata": {},
   "outputs": [],
   "source": [
    "# Матрицы ошибок\n",
    "conf_matrix_iso = confusion_matrix(y_test, y_pred_iso)\n",
    "conf_matrix_svm = confusion_matrix(y_test, y_pred_svm)\n",
    "\n",
    "sns.heatmap(conf_matrix_iso, annot=True, fmt=\"d\", cmap=\"Blues\")\n",
    "plt.title(\"Confusion Matrix - Isolation Forest\")\n",
    "plt.show()\n",
    "\n",
    "sns.heatmap(conf_matrix_svm, annot=True, fmt=\"d\", cmap=\"Reds\")\n",
    "plt.title(\"Confusion Matrix - One-Class SVM\")\n",
    "plt.show()\n"
   ]
  },
  {
   "cell_type": "code",
   "execution_count": null,
   "id": "320de1d4-e0e5-4129-a8b1-d0d8838c1619",
   "metadata": {},
   "outputs": [],
   "source": [
    "import pandas as pd\n",
    "import numpy as np\n",
    "from statsmodels.tsa.arima.model import ARIMA\n",
    "from statsmodels.tsa.holtwinters import ExponentialSmoothing\n",
    "from sklearn.metrics import mean_absolute_error, mean_squared_error\n",
    "import matplotlib.pyplot as plt\n",
    "from math import sqrt\n",
    "\n",
    "# Загрузка данных (например, датасет с временными рядами)\n",
    "data = pd.read_csv('time_series_data.csv', parse_dates=['Date'], index_col='Date')\n",
    "print(data.head())\n"
   ]
  },
  {
   "cell_type": "code",
   "execution_count": null,
   "id": "e611a668-2d05-4038-98bb-ddf3302531f9",
   "metadata": {},
   "outputs": [],
   "source": [
    "# Заполнение пропусков\n",
    "data = data.fillna(method='ffill')\n",
    "\n",
    "# Визуализация\n",
    "plt.figure(figsize=(12, 6))\n",
    "plt.plot(data['value'])\n",
    "plt.title('Time Series Data')\n",
    "plt.show()\n"
   ]
  },
  {
   "cell_type": "code",
   "execution_count": null,
   "id": "eae00c8f-e0ac-488f-98a8-9f298d03ca77",
   "metadata": {},
   "outputs": [],
   "source": [
    "# ARIMA модель\n",
    "arima_model = ARIMA(data['value'], order=(1, 1, 1))\n",
    "arima_result = arima_model.fit()\n",
    "data['ARIMA_Prediction'] = arima_result.predict(start=len(data)-100, end=len(data)-1, dynamic=False)\n",
    "\n",
    "# Экспоненциальное сглаживание (Holt-Winters)\n",
    "hw_model = ExponentialSmoothing(data['value'], seasonal='add', seasonal_periods=12)\n",
    "hw_result = hw_model.fit()\n",
    "data['HW_Prediction'] = hw_result.predict(start=len(data)-100, end=len(data)-1)\n",
    "\n",
    "# Визуализация предсказаний\n",
    "plt.figure(figsize=(12, 6))\n",
    "plt.plot(data['value'], label='Actual')\n",
    "plt.plot(data['ARIMA_Prediction'], label='ARIMA Prediction')\n",
    "plt.plot(data['HW_Prediction'], label='Holt-Winters Prediction')\n",
    "plt.legend()\n",
    "plt.show()\n"
   ]
  },
  {
   "cell_type": "code",
   "execution_count": null,
   "id": "9c54ca1e-cd88-4191-999a-441a434e3788",
   "metadata": {},
   "outputs": [],
   "source": [
    "# Метрики для ARIMA\n",
    "arima_mae = mean_absolute_error(data['value'][-100:], data['ARIMA_Prediction'][-100:])\n",
    "arima_rmse = sqrt(mean_squared_error(data['value'][-100:], data['ARIMA_Prediction'][-100:]))\n",
    "print(f'ARIMA MAE: {arima_mae}, RMSE: {arima_rmse}')\n",
    "\n",
    "# Метрики для Holt-Winters\n",
    "hw_mae = mean_absolute_error(data['value'][-100:], data['HW_Prediction'][-100:])\n",
    "hw_rmse = sqrt(mean_squared_error(data['value'][-100:], data['HW_Prediction'][-100:]))\n",
    "print(f'Holt-Winters MAE: {hw_mae}, RMSE: {hw_rmse}')\n"
   ]
  },
  {
   "cell_type": "code",
   "execution_count": null,
   "id": "4d2868b2-dfe5-4c46-a9eb-4f7a3faa6f3c",
   "metadata": {},
   "outputs": [],
   "source": []
  },
  {
   "cell_type": "code",
   "execution_count": null,
   "id": "82f9aa69-ad99-41ef-b31d-01a55525bf8b",
   "metadata": {},
   "outputs": [],
   "source": []
  },
  {
   "cell_type": "code",
   "execution_count": null,
   "id": "a3559352-a7f0-4a10-80ee-1982e14fc48e",
   "metadata": {},
   "outputs": [],
   "source": []
  },
  {
   "cell_type": "code",
   "execution_count": null,
   "id": "1ccceac1-4cbd-4c81-ada2-885e0f0e8ed6",
   "metadata": {},
   "outputs": [],
   "source": []
  },
  {
   "cell_type": "code",
   "execution_count": null,
   "id": "70b3a398-c756-4250-86e5-de26fded1f92",
   "metadata": {},
   "outputs": [],
   "source": []
  }
 ],
 "metadata": {
  "kernelspec": {
   "display_name": "Python 3 (ipykernel)",
   "language": "python",
   "name": "python3"
  },
  "language_info": {
   "codemirror_mode": {
    "name": "ipython",
    "version": 3
   },
   "file_extension": ".py",
   "mimetype": "text/x-python",
   "name": "python",
   "nbconvert_exporter": "python",
   "pygments_lexer": "ipython3",
   "version": "3.12.7"
  }
 },
 "nbformat": 4,
 "nbformat_minor": 5
}
